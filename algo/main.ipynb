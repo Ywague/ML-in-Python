{
 "cells": [
  {
   "cell_type": "code",
   "execution_count": 1,
   "metadata": {},
   "outputs": [],
   "source": [
    "import numpy as np\n",
    "import pandas as pd"
   ]
  },
  {
   "cell_type": "code",
   "execution_count": 2,
   "metadata": {},
   "outputs": [
    {
     "name": "stdout",
     "output_type": "stream",
     "text": [
      "92.3918697978597\n",
      "[ 7.80172414  9.72413793 11.64655172 15.49137931 19.3362069 ]\n"
     ]
    }
   ],
   "source": [
    "from sklearn.linear_model import LinearRegression\n",
    "#données\n",
    "x = np.array([6, 8, 10, 14, 18]).reshape((-1, 1))\n",
    "y = np.array([7, 9, 13, 17, 18])\n",
    "\n",
    "#instancier modèle\n",
    "model_linReg = LinearRegression()\n",
    "\n",
    "#entrainement du modèle\n",
    "model_linReg.fit(x, y)\n",
    "\n",
    "#précision du modèle\n",
    "precision = model_linReg.score(x, y)\n",
    "print(precision*100)\n",
    "\n",
    "#prédiction\n",
    "prediction = model_linReg.predict(x)\n",
    "print(prediction)"
   ]
  },
  {
   "cell_type": "code",
   "execution_count": null,
   "metadata": {},
   "outputs": [],
   "source": []
  }
 ],
 "metadata": {
  "kernelspec": {
   "display_name": "Python 3.10.4 64-bit",
   "language": "python",
   "name": "python3"
  },
  "language_info": {
   "codemirror_mode": {
    "name": "ipython",
    "version": 3
   },
   "file_extension": ".py",
   "mimetype": "text/x-python",
   "name": "python",
   "nbconvert_exporter": "python",
   "pygments_lexer": "ipython3",
   "version": "3.10.4"
  },
  "orig_nbformat": 4,
  "vscode": {
   "interpreter": {
    "hash": "3ad933181bd8a04b432d3370b9dc3b0662ad032c4dfaa4e4f1596c548f763858"
   }
  }
 },
 "nbformat": 4,
 "nbformat_minor": 2
}
